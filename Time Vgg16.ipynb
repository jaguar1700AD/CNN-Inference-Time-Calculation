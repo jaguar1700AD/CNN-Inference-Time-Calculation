{
 "cells": [
  {
   "cell_type": "code",
   "execution_count": 1,
   "metadata": {},
   "outputs": [],
   "source": [
    "import torch\n",
    "import torch.nn as nn\n",
    "import torch.optim as optim\n",
    "from torch.optim import lr_scheduler\n",
    "import numpy as np\n",
    "import  torchvision\n",
    "from torchvision import datasets, models, transforms\n",
    "import matplotlib.pyplot as plt\n",
    "import time\n",
    "import os\n",
    "import copy"
   ]
  },
  {
   "cell_type": "code",
   "execution_count": 2,
   "metadata": {},
   "outputs": [],
   "source": [
    "transform = transforms.Compose([\n",
    "    transforms.Resize(256),\n",
    "    transforms.CenterCrop(224),\n",
    "    transforms.ToTensor(),\n",
    "    transforms.Normalize(mean=[0.485, 0.456, 0.406], std=[0.229, 0.224, 0.225]),\n",
    "])"
   ]
  },
  {
   "cell_type": "code",
   "execution_count": 3,
   "metadata": {},
   "outputs": [
    {
     "name": "stdout",
     "output_type": "stream",
     "text": [
      "Files already downloaded and verified\n"
     ]
    }
   ],
   "source": [
    "imagenet_data = torchvision.datasets.CIFAR10('D:\\\\datasets\\\\', download = True, transform = transform)"
   ]
  },
  {
   "cell_type": "code",
   "execution_count": 4,
   "metadata": {},
   "outputs": [],
   "source": [
    "dataloader = torch.utils.data.DataLoader(imagenet_data, batch_size=32, shuffle = False, num_workers=4)"
   ]
  },
  {
   "cell_type": "code",
   "execution_count": 5,
   "metadata": {},
   "outputs": [],
   "source": [
    "cfgs = {\n",
    "    'A': [64, 'M', 128, 'M', 256, 256, 'M', 512, 512, 'M', 512, 512, 'M'],\n",
    "    'B': [64, 64, 'M', 128, 128, 'M', 256, 256, 'M', 512, 512, 'M', 512, 512, 'M'],\n",
    "    'D': [64, 64, 'M', 128, 128, 'M', 256, 256, 256, 'M', 512, 512, 512, 'M', 512, 512, 512, 'M'],\n",
    "    'E': [64, 64, 'M', 128, 128, 'M', 256, 256, 256, 256, 'M', 512, 512, 512, 512, 'M', 512, 512, 512, 512, 'M'],\n",
    "}\n",
    "\n",
    "\n",
    "def make_layers(cfg, batch_norm=False):\n",
    "    layers = []\n",
    "    in_channels = 3\n",
    "    for v in cfg:\n",
    "        if v == 'M':\n",
    "            layers += [nn.MaxPool2d(kernel_size=2, stride=2)]\n",
    "        else:\n",
    "            conv2d = nn.Conv2d(in_channels, v, kernel_size=3, padding=1)\n",
    "            if batch_norm:\n",
    "                layers += [conv2d, nn.BatchNorm2d(v), nn.ReLU(inplace=True)]\n",
    "            else:\n",
    "                layers += [conv2d, nn.ReLU(inplace=True)]\n",
    "            in_channels = v\n",
    "    return nn.Sequential(*layers)\n",
    "\n",
    "class VGG(nn.Module):\n",
    "\n",
    "    def __init__(self, num_classes=1000, init_weights=True):\n",
    "        super(VGG, self).__init__()\n",
    "        self.features = make_layers(cfgs['D'], batch_norm = False)\n",
    "        self.avgpool = nn.AdaptiveAvgPool2d((7, 7))\n",
    "        self.classifier = nn.Sequential(\n",
    "            nn.Linear(512 * 7 * 7, 4096),\n",
    "            nn.ReLU(True),\n",
    "            nn.Dropout(),\n",
    "            nn.Linear(4096, 4096),\n",
    "            nn.ReLU(True),\n",
    "            nn.Dropout(),\n",
    "            nn.Linear(4096, num_classes),\n",
    "        )\n",
    "        if init_weights:\n",
    "            self._initialize_weights()\n",
    "\n",
    "    def forward(self, x):\n",
    "        x = self.features(x)\n",
    "        x = self.avgpool(x)\n",
    "        x = torch.flatten(x, 1)\n",
    "        x = self.classifier(x)\n",
    "        return x\n",
    "\n",
    "    def _initialize_weights(self):\n",
    "        for m in self.modules():\n",
    "            if isinstance(m, nn.Conv2d):\n",
    "                nn.init.kaiming_normal_(m.weight, mode='fan_out', nonlinearity='relu')\n",
    "                if m.bias is not None:\n",
    "                    nn.init.constant_(m.bias, 0)\n",
    "            elif isinstance(m, nn.BatchNorm2d):\n",
    "                nn.init.constant_(m.weight, 1)\n",
    "                nn.init.constant_(m.bias, 0)\n",
    "            elif isinstance(m, nn.Linear):\n",
    "                nn.init.normal_(m.weight, 0, 0.01)\n",
    "                nn.init.constant_(m.bias, 0)\n"
   ]
  },
  {
   "cell_type": "code",
   "execution_count": 6,
   "metadata": {},
   "outputs": [],
   "source": [
    "class modifiedVGG(nn.Module):\n",
    "\n",
    "    def __init__(self, num_classes=1000, init_weights=True):\n",
    "        super(modifiedVGG, self).__init__()\n",
    "        self.features = make_layers(cfgs['D'], batch_norm = False)\n",
    "        self.avgpool = nn.AdaptiveAvgPool2d((7, 7))\n",
    "        self.classifier = nn.Sequential(\n",
    "            nn.Linear(512 * 7 * 7, 4096),\n",
    "            nn.ReLU(True),\n",
    "            nn.Dropout(),\n",
    "            nn.Linear(4096, 4096),\n",
    "            nn.ReLU(True),\n",
    "            nn.Dropout(),\n",
    "            nn.Linear(4096, num_classes),\n",
    "        )\n",
    "        if init_weights:\n",
    "            self._initialize_weights()\n",
    "\n",
    "    def forward(self, x):\n",
    "        time_arr = []\n",
    "        deb_arr = []\n",
    "        global device\n",
    "        \n",
    "        for layer in self.features:\n",
    "            if isinstance(layer, nn.Conv2d):\n",
    "                \n",
    "                if device == torch.device('cpu'):\n",
    "                    start = time.time()\n",
    "                    x = layer(x)\n",
    "                    end = time.time()\n",
    "                    time_arr.append((end - start) * 1000)\n",
    "                else:\n",
    "                    start = torch.cuda.Event(enable_timing=True)\n",
    "                    end = torch.cuda.Event(enable_timing=True)\n",
    "                    start.record()\n",
    "                    x = layer(x)\n",
    "                    end.record()\n",
    "                    torch.cuda.synchronize()\n",
    "                    time_arr.append(start.elapsed_time(end))\n",
    "                    \n",
    "            else:\n",
    "                #start = time.time()\n",
    "                x = layer(x)\n",
    "                #end = time.time()\n",
    "                #deb_arr.append(end - start)\n",
    "                \n",
    "        x = self.avgpool(x)\n",
    "        x = torch.flatten(x, 1)\n",
    "        x = self.classifier(x)\n",
    "        \n",
    "        return x, np.array(time_arr)\n",
    "\n",
    "    def _initialize_weights(self):\n",
    "        for m in self.modules():\n",
    "            if isinstance(m, nn.Conv2d):\n",
    "                nn.init.kaiming_normal_(m.weight, mode='fan_out', nonlinearity='relu')\n",
    "                if m.bias is not None:\n",
    "                    nn.init.constant_(m.bias, 0)\n",
    "            elif isinstance(m, nn.BatchNorm2d):\n",
    "                nn.init.constant_(m.weight, 1)\n",
    "                nn.init.constant_(m.bias, 0)\n",
    "            elif isinstance(m, nn.Linear):\n",
    "                nn.init.normal_(m.weight, 0, 0.01)\n",
    "                nn.init.constant_(m.bias, 0)\n"
   ]
  },
  {
   "cell_type": "code",
   "execution_count": 7,
   "metadata": {},
   "outputs": [],
   "source": [
    "vgg = models.vgg16(pretrained=True)"
   ]
  },
  {
   "cell_type": "code",
   "execution_count": 8,
   "metadata": {},
   "outputs": [
    {
     "data": {
      "text/plain": [
       "<All keys matched successfully>"
      ]
     },
     "execution_count": 8,
     "metadata": {},
     "output_type": "execute_result"
    }
   ],
   "source": [
    "best_model_wts = copy.deepcopy(vgg.state_dict())\n",
    "model = modifiedVGG()\n",
    "device = torch.device('cuda')\n",
    "model.to(device)\n",
    "model.load_state_dict(best_model_wts)"
   ]
  },
  {
   "cell_type": "code",
   "execution_count": 9,
   "metadata": {},
   "outputs": [
    {
     "name": "stdout",
     "output_type": "stream",
     "text": [
      "Acc: 0.0000\n",
      "[1521.29661942 1113.14660454  486.48828602  745.55423927  427.97011089\n",
      "  742.94252968  759.50912094  254.22492838  421.98851204  420.53190422\n",
      "  141.87075186  141.1208005   140.66310406]\n",
      "[47.54051936 34.78583139 15.20275894 23.29856998 13.37406597 23.21695405\n",
      " 23.73466003  7.94452901 13.187141   13.14162201  4.433461    4.41002502\n",
      "  4.395722  ]\n",
      "Total time taken = 16.619699478149414 seconds\n",
      "Avg End to End = 301.30883026123047 ms\n"
     ]
    }
   ],
   "source": [
    "num_conv = 13\n",
    "\n",
    "since = time.time()\n",
    "model.eval()\n",
    "\n",
    "with torch.no_grad():\n",
    "\n",
    "    if isinstance(model, modifiedVGG):\n",
    "        tot_times = np.zeros(num_conv)\n",
    "        #deb_times = np.zeros(8)\n",
    "        #end_times = 0\n",
    "    corrects = 0\n",
    "    done = 0\n",
    "\n",
    "    end_to_end_time = 0.0\n",
    "\n",
    "    with torch.autograd.profiler.profile(use_cuda = (device == torch.device('cuda'))) as prof:\n",
    "        for inputs, labels in dataloader:\n",
    "\n",
    "            start_main = torch.cuda.Event(enable_timing=True)\n",
    "            end_main = torch.cuda.Event(enable_timing=True)\n",
    "            start_main.record()\n",
    "\n",
    "            inputs = inputs.to(device)\n",
    "            labels = labels.to(device)\n",
    "            done += 1\n",
    "            if done * len(inputs) >= 1000:\n",
    "                break\n",
    "            print(done * len(inputs), end = '\\r')\n",
    "\n",
    "            if isinstance(model, modifiedVGG):\n",
    "                #outputs, exec_times, hid_times, end_time = model(inputs)\n",
    "                outputs, exec_times = model(inputs)\n",
    "                tot_times += exec_times\n",
    "                #deb_times += hid_times\n",
    "                #end_times += end_time\n",
    "            else:\n",
    "                outputs = model(inputs)\n",
    "\n",
    "            end_main.record()\n",
    "            torch.cuda.synchronize()\n",
    "            end_to_end_time += start_main.elapsed_time(end_main)\n",
    "\n",
    "            _, preds = torch.max(outputs, 1)\n",
    "            corrects += torch.sum(preds == labels.data)\n",
    "\n",
    "    acc = corrects.double() / (done * len(inputs))\n",
    "    print('Acc: {:.4f}'.format(acc))\n",
    "\n",
    "    if isinstance(model, modifiedVGG):\n",
    "        print(tot_times)\n",
    "        #print(deb_times)\n",
    "        #print(end_times)\n",
    "        tot_times = tot_times / done\n",
    "        print(tot_times)\n",
    "\n",
    "    time_elapsed = time.time() - since\n",
    "    print('Total time taken = {} seconds'.format(time_elapsed))\n",
    "\n",
    "    end_to_end_time = end_to_end_time / (done)\n",
    "    print('Avg End to End = {} ms'.format(end_to_end_time))\n",
    "\n"
   ]
  },
  {
   "cell_type": "code",
   "execution_count": 10,
   "metadata": {},
   "outputs": [
    {
     "name": "stdout",
     "output_type": "stream",
     "text": [
      "---------------------------  ---------------  ---------------  ---------------  ---------------  ---------------  ---------------  ---------------  ---------------  ---------------  \n",
      "Name                         Self CPU total %  Self CPU total   CPU total %      CPU total        CPU time avg     CUDA total %     CUDA total       CUDA time avg    Number of Calls  \n",
      "---------------------------  ---------------  ---------------  ---------------  ---------------  ---------------  ---------------  ---------------  ---------------  ---------------  \n",
      "random_                      0.00%            84.200us         0.00%            84.200us         84.200us         0.00%            1.000us          1.000us          1                \n",
      "is_floating_point            0.00%            8.500us          0.00%            8.500us          8.500us          0.00%            1.000us          1.000us          1                \n",
      "is_complex                   0.00%            2.600us          0.00%            2.600us          2.600us          0.00%            1.000us          1.000us          1                \n",
      "item                         0.00%            30.900us         0.00%            48.200us         48.200us         0.00%            4.500us          4.500us          1                \n",
      "_local_scalar_dense          0.00%            17.300us         0.00%            17.300us         17.300us         0.00%            2.500us          2.500us          1                \n",
      "to                           24.91%           571.739ms        25.13%           576.733ms        4.506ms          3.60%            1.161s           9.067ms          128              \n",
      "detach_                      0.01%            232.700us        0.01%            232.700us        3.636us          0.00%            68.000us         1.062us          64               \n",
      "set_                         0.02%            358.500us        0.02%            358.500us        5.602us          0.00%            71.000us         1.109us          64               \n",
      "empty                        0.22%            4.993ms          0.22%            4.993ms          78.020us         0.18%            56.893ms         888.953us        64               \n",
      "conv2d                       0.36%            8.353ms          58.42%           1.341s           3.327ms          22.68%           7.300s           18.115ms         403              \n",
      "convolution                  0.36%            8.174ms          58.06%           1.332s           3.306ms          22.59%           7.274s           18.050ms         403              \n",
      "_convolution                 0.54%            12.375ms         57.70%           1.324s           3.286ms          22.58%           7.269s           18.038ms         403              \n",
      "contiguous                   0.35%            8.073ms          0.35%            8.073ms          20.033us         0.55%            176.424ms        437.778us        403              \n",
      "cudnn_convolution            56.81%           1.304s           56.81%           1.304s           3.235ms          21.92%           7.057s           17.510ms         403              \n",
      "relu_                        1.24%            28.489ms         1.24%            28.489ms         61.267us         2.38%            767.628ms        1.651ms          465              \n",
      "max_pool2d                   0.17%            3.879ms          0.89%            20.423ms         131.764us        0.96%            307.800ms        1.986ms          155              \n",
      "max_pool2d_with_indices      0.72%            16.545ms         0.72%            16.545ms         106.739us        0.92%            295.235ms        1.905ms          155              \n",
      "adaptive_avg_pool2d          0.03%            742.700us        0.12%            2.854ms          92.048us         0.09%            30.232ms         975.210us        31               \n",
      "_adaptive_avg_pool2d         0.09%            2.111ms          0.09%            2.111ms          68.090us         0.09%            27.692ms         893.274us        31               \n",
      "flatten                      0.03%            736.000us        0.05%            1.153ms          37.177us         0.00%            488.500us        15.758us         31               \n",
      "reshape                      0.01%            181.400us        0.02%            416.500us        13.435us         0.00%            95.000us         3.065us          31               \n",
      "as_strided                   0.01%            235.100us        0.01%            235.100us        7.584us          0.00%            32.000us         1.032us          31               \n",
      "t                            0.04%            814.700us        0.04%            814.700us        8.760us          0.00%            93.500us         1.005us          93               \n",
      "addmm                        13.62%           312.590ms        13.62%           312.590ms        3.361ms          1.40%            450.779ms        4.847ms          93               \n",
      "dropout                      0.05%            1.193ms          0.05%            1.193ms          19.239us         0.00%            431.500us        6.960us          62               \n",
      "max                          0.12%            2.790ms          0.12%            2.790ms          90.003us         0.01%            3.318ms          107.048us        31               \n",
      "eq                           0.09%            2.112ms          0.09%            2.112ms          68.129us         0.01%            2.799ms          90.274us         31               \n",
      "sum                          0.14%            3.162ms          0.14%            3.162ms          102.010us        0.01%            4.223ms          136.242us        31               \n",
      "add                          0.01%            155.700us        0.01%            155.700us        155.700us        0.00%            199.500us        199.500us        1                \n",
      "add_                         0.05%            1.057ms          0.05%            1.057ms          35.233us         0.03%            9.460ms          315.333us        30               \n",
      "---------------------------  ---------------  ---------------  ---------------  ---------------  ---------------  ---------------  ---------------  ---------------  ---------------  \n",
      "Self CPU time total: 2.295s\n",
      "CUDA time total: 32.195s\n",
      "\n"
     ]
    }
   ],
   "source": [
    "print(prof.key_averages().table())"
   ]
  },
  {
   "cell_type": "code",
   "execution_count": null,
   "metadata": {},
   "outputs": [],
   "source": [
    "alexnet, vgg16, vgg19, lenet5, zfnet, resnet34"
   ]
  }
 ],
 "metadata": {
  "kernelspec": {
   "display_name": "Python 3",
   "language": "python",
   "name": "python3"
  },
  "language_info": {
   "codemirror_mode": {
    "name": "ipython",
    "version": 3
   },
   "file_extension": ".py",
   "mimetype": "text/x-python",
   "name": "python",
   "nbconvert_exporter": "python",
   "pygments_lexer": "ipython3",
   "version": "3.7.4"
  }
 },
 "nbformat": 4,
 "nbformat_minor": 2
}
